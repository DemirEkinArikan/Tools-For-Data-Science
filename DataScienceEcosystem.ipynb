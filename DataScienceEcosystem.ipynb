{
 "cells": [
  {
   "cell_type": "markdown",
   "id": "4c3cde53-3052-4d97-83e4-203feeb55ee0",
   "metadata": {
    "tags": []
   },
   "source": [
    "# Data Science Tools and Ecosystems"
   ]
  },
  {
   "cell_type": "markdown",
   "id": "5b6efdab-5eb1-41e6-bf0b-1c0e8838ed5d",
   "metadata": {},
   "source": [
    "In this notebook, Data Science Tools and Ecosystem are summarized"
   ]
  },
  {
   "cell_type": "markdown",
   "id": "d5c2a8e2-1120-4e11-a0b8-027981fd4982",
   "metadata": {},
   "source": [
    "Some of the popular languages that Data Scientist use are: R,Python,SQL"
   ]
  },
  {
   "cell_type": "markdown",
   "id": "cf0a878e-ce8b-4851-947c-4261aae2125d",
   "metadata": {},
   "source": [
    "Some of the most commonly used Data Science Libraries include: Tensorflow, PyTorch,SciPy,Pandas"
   ]
  },
  {
   "cell_type": "markdown",
   "id": "112e92e2-97ac-4ac4-b58d-9d3e5a1ba5a4",
   "metadata": {
    "tags": []
   },
   "source": [
    "|Data Science Tools|\n",
    "|--------|\n",
    "|RStudio|\n",
    "|Apache Spark|\n",
    "|Apache Hadoop|\n"
   ]
  },
  {
   "cell_type": "markdown",
   "id": "9846b440-4c81-4aa1-b91a-8f004c53fe37",
   "metadata": {},
   "source": [
    "### Below are a few examples of evaluating arithmetic expressions in Python"
   ]
  },
  {
   "cell_type": "code",
   "execution_count": 7,
   "id": "f8dfc46d-991b-4bdb-a496-89182f9872bf",
   "metadata": {
    "tags": []
   },
   "outputs": [
    {
     "data": {
      "text/plain": [
       "17"
      ]
     },
     "execution_count": 7,
     "metadata": {},
     "output_type": "execute_result"
    }
   ],
   "source": [
    "# This a simple arithmetic expression to mutiply then add integers\n",
    "(3*4)+5"
   ]
  },
  {
   "cell_type": "code",
   "execution_count": 8,
   "id": "cb666e83-1210-4bb1-8bb3-8a4216f2766b",
   "metadata": {
    "tags": []
   },
   "outputs": [
    {
     "data": {
      "text/plain": [
       "3.3333333333333335"
      ]
     },
     "execution_count": 8,
     "metadata": {},
     "output_type": "execute_result"
    }
   ],
   "source": [
    "# This will convert 200 minutes to hours by diving by 60\n",
    "200/60"
   ]
  },
  {
   "cell_type": "markdown",
   "id": "7b70bf63-ed6d-4a46-b6cf-51ecae914e2c",
   "metadata": {},
   "source": [
    "- **Objectives:**\n",
    "    - Popular Languages for Data Science\n",
    "    - Arithmetic expressions using Python\n",
    "    - Commonly used Data Science libraries\n"
   ]
  },
  {
   "cell_type": "markdown",
   "id": "efad8dbb-a283-42b9-8898-94241a415e0d",
   "metadata": {
    "tags": []
   },
   "source": [
    "## Author\n",
    "Demir Ekin Arıkan"
   ]
  },
  {
   "cell_type": "code",
   "execution_count": null,
   "id": "6bfa28b7-9375-439d-a82f-fc5f81950398",
   "metadata": {},
   "outputs": [],
   "source": []
  }
 ],
 "metadata": {
  "kernelspec": {
   "display_name": "Python",
   "language": "python",
   "name": "conda-env-python-py"
  },
  "language_info": {
   "codemirror_mode": {
    "name": "ipython",
    "version": 3
   },
   "file_extension": ".py",
   "mimetype": "text/x-python",
   "name": "python",
   "nbconvert_exporter": "python",
   "pygments_lexer": "ipython3",
   "version": "3.7.12"
  }
 },
 "nbformat": 4,
 "nbformat_minor": 5
}
